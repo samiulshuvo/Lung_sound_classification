{
  "cells": [
    {
      "cell_type": "markdown",
      "metadata": {
        "id": "GuPOH34GBhtU"
      },
      "source": [
        "**Importing library**"
      ]
    },
    {
      "cell_type": "code",
      "execution_count": null,
      "metadata": {
        "id": "W8wyypo3_g0Q",
        "trusted": true
      },
      "outputs": [],
      "source": [
        "\n",
        "import keras\n",
        "from keras.models import Sequential\n",
        "from keras.layers import Dense\n",
        "from keras.layers import Convolution2D\n",
        "from keras.layers import Flatten\n",
        "from keras.layers import MaxPooling2D\n",
        "from keras.preprocessing.image import ImageDataGenerator\n",
        "from keras.models import Sequential\n",
        "from keras.layers import Conv2D\n",
        "from keras.layers import MaxPooling2D\n",
        "from keras.layers import Flatten\n",
        "from keras.layers import Dense\n",
        "from keras.layers import Input, Conv2D, Dense, concatenate,MaxPooling2D,Dropout\n",
        "from keras.models import Model\n",
        "from tensorflow.keras.callbacks import ModelCheckpoint, EarlyStopping\n",
        "from collections import Counter\n",
        "from keras.callbacks import EarlyStopping"
      ]
    },
    {
      "cell_type": "markdown",
      "metadata": {
        "id": "QcItlbReBrks"
      },
      "source": [
        "**Load data**\n"
      ]
    },
    {
      "cell_type": "code",
      "execution_count": null,
      "metadata": {
        "id": "eN5Ll4rh_g0Y",
        "trusted": true
      },
      "outputs": [],
      "source": [
        "train_loc = 'independentimf/speakerindimf/train/'\n",
        "validation_loc = 'independentimf/speakerindimf/val/'"
      ]
    },
    {
      "cell_type": "code",
      "execution_count": null,
      "metadata": {
        "id": "lztkVdny_g0a",
        "trusted": true
      },
      "outputs": [],
      "source": [
        "trdata = ImageDataGenerator(rescale=1 / 255.0,validation_split=0.20)\n",
        "traindata = trdata.flow_from_directory(directory=train_loc, target_size=(224,224),batch_size=10,subset='training',shuffle=False)\n",
        "validationdata = validationdata.flow_from_directory(directory=validation_loc, target_size=(224,224),subset='validation',batch_size=10,shuffle=False)\n"
      ]
    },
    {
      "cell_type": "code",
      "execution_count": null,
      "metadata": {
        "id": "JNPmNRxG_g0f",
        "trusted": true
      },
      "outputs": [],
      "source": []
    },
    {
      "cell_type": "code",
      "execution_count": null,
      "metadata": {
        "id": "PyDsn_m4_g0g",
        "trusted": true
      },
      "outputs": [],
      "source": []
    },
    {
      "cell_type": "code",
      "execution_count": null,
      "metadata": {
        "id": "z7vbHaSM_g0h",
        "trusted": true
      },
      "outputs": [],
      "source": []
    },
    {
      "cell_type": "markdown",
      "metadata": {
        "id": "-VbRWXc-Dt7T"
      },
      "source": [
        "**Building the CNN**"
      ]
    },
    {
      "cell_type": "code",
      "execution_count": null,
      "metadata": {
        "id": "HBLxfP36_g0j",
        "trusted": true
      },
      "outputs": [],
      "source": [
        "img_inputs = Input(shape=(224,224, 3))\n",
        "# Step 1 - Convolution\n",
        "classifier=Conv2D(64, (5, 5),  activation = 'relu')(img_inputs)\n",
        "\n",
        "# Step 2 - Pooling\n",
        "classifier=MaxPooling2D(pool_size = (2, 2))(classifier)\n",
        "# Step 1 - Convolution\n",
        "classifier=Conv2D(64, (3, 3), activation = 'relu')(classifier)\n",
        "\n",
        "# Step 2 - Pooling\n",
        "classifier=MaxPooling2D(pool_size = (2, 2))(classifier)\n",
        "# Step 1 - Convolution\n",
        "classifier=Conv2D(96, (3, 3),  activation = 'relu')(classifier)\n",
        "\n",
        "# Step 2 - Pooling\n",
        "classifier=MaxPooling2D(pool_size = (2, 2))(classifier)\n",
        "# Step 1 - Convolution\n",
        "classifier=Conv2D(96, (3, 3),  activation = 'relu')(classifier)\n",
        "\n",
        "# Step 2 - Pooling\n",
        "classifier=MaxPooling2D(pool_size = (2, 2))(classifier)\n",
        "\n",
        "\n",
        "#classifier=MaxPooling2D(pool_size = (2, 2))(classifier)\n",
        "# Step 3 - Flattening\n",
        "classifier=Flatten()(classifier)\n",
        "\n",
        "# Step 4 - Full connection\n",
        "classifier=Dense(units = 256, activation = 'relu')(classifier)\n",
        "classifier=Dropout(0.6)(classifier)\n",
        "classifier=Dense(units = 128, activation = 'relu')(classifier)\n",
        "classifier=Dropout(0.3)(classifier)\n",
        "classifier=Dense(units = 64, activation = 'relu')(classifier)\n",
        "classifier=Dropout(0.15)(classifier)\n",
        "classifier=Dense(units = 32, activation = 'relu')(classifier)\n",
        "classifier=Dropout(0.075)(classifier)\n",
        "classifier=Dense(units = 16, activation = 'relu')(classifier)\n",
        "classifier=Dropout(0.0325)(classifier)\n",
        "classifier=Dense(units = 8, activation = 'relu')(classifier)\n",
        "outputs=Dense(units = 6, activation = 'softmax')(classifier)\n",
        "\n",
        "model = Model(inputs=img_inputs, outputs=outputs, name=\"LS_model\")\n",
        "\n",
        "\n",
        "\n"
      ]
    },
    {
      "cell_type": "markdown",
      "metadata": {
        "id": "HssTWx4LD3qS"
      },
      "source": [
        "**Compiling the CNN**"
      ]
    },
    {
      "cell_type": "code",
      "execution_count": null,
      "metadata": {
        "id": "xCTTH0NoD18t"
      },
      "outputs": [],
      "source": [
        "opt=opt = keras.optimizers.SGD(learning_rate=0.00001)\n",
        "\n",
        "model.compile(optimizer = opt, loss = 'categorical_crossentropy', metrics = ['accuracy'])\n",
        "\n",
        "STEP_SIZE_TRAIN=traindata.n//traindata.batch_size\n",
        "\n",
        "STEP_SIZE_VALID=testdata.n//testdata.batch_size\n",
        "\n",
        "checkpoint = ModelCheckpoint(\"working/best_model.h5\", monitor='val_accuracy', verbose=1, \n",
        "                             save_best_only=True, save_weights_only=False, mode='auto')\n",
        "\n",
        "early = EarlyStopping(monitor='val_accuracy', min_delta=0, patience=20, verbose=1, mode='auto')\n",
        "model.summary()"
      ]
    },
    {
      "cell_type": "markdown",
      "metadata": {
        "id": "OkuwaytWDmRq"
      },
      "source": [
        "**Fitting the CNN to the images**"
      ]
    },
    {
      "cell_type": "code",
      "execution_count": null,
      "metadata": {
        "id": "rVe1eIlc_g0m",
        "trusted": true
      },
      "outputs": [],
      "source": [
        "history = model.fit_generator(traindata,\n",
        "                    epochs =600,\n",
        "                    steps_per_epoch=STEP_SIZE_TRAIN,\n",
        "                    #class_weight=class_weights,\n",
        "                    validation_data = testdata,\n",
        "                    validation_steps=STEP_SIZE_VALID,\n",
        "                    callbacks=[checkpoint,early]\n",
        "                    )"
      ]
    },
    {
      "cell_type": "markdown",
      "metadata": {},
      "source": [
        "**Visualize history**"
      ]
    },
    {
      "cell_type": "markdown",
      "metadata": {},
      "source": [
        "import matplotlib.pyplot as plt\n",
        "\n",
        "plt.plot(hist.history['accuracy'], label='train')\n",
        "plt.plot(hist.history['val_accuracy'], label='val')\n",
        "plt.title('Accuracy and Validation Accuracy')\n",
        "plt.legend();\n",
        "plt.show()"
      ]
    }
  ],
  "metadata": {
    "colab": {
      "name": "sHUVONETFINAL.ipynb",
      "provenance": []
    },
    "kernelspec": {
      "display_name": "Python 3",
      "language": "python",
      "name": "python3"
    },
    "language_info": {
      "codemirror_mode": {
        "name": "ipython",
        "version": 3
      },
      "file_extension": ".py",
      "mimetype": "text/x-python",
      "name": "python",
      "nbconvert_exporter": "python",
      "pygments_lexer": "ipython3",
      "version": "3.6.4"
    }
  },
  "nbformat": 4,
  "nbformat_minor": 0
}
